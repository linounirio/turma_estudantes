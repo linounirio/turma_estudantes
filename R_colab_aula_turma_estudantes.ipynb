{
  "nbformat": 4,
  "nbformat_minor": 0,
  "metadata": {
    "colab": {
      "provenance": [],
      "authorship_tag": "ABX9TyPGoyTZai9XLVPl/Yej79As",
      "include_colab_link": true
    },
    "kernelspec": {
      "name": "ir",
      "display_name": "R"
    },
    "language_info": {
      "name": "R"
    }
  },
  "cells": [
    {
      "cell_type": "markdown",
      "metadata": {
        "id": "view-in-github",
        "colab_type": "text"
      },
      "source": [
        "<a href=\"https://colab.research.google.com/github/linounirio/turma_estudantes/blob/main/R_colab_aula_turma_estudantes.ipynb\" target=\"_parent\"><img src=\"https://colab.research.google.com/assets/colab-badge.svg\" alt=\"Open In Colab\"/></a>"
      ]
    },
    {
      "cell_type": "code",
      "execution_count": 1,
      "metadata": {
        "colab": {
          "base_uri": "https://localhost:8080/",
          "height": 34
        },
        "id": "Pa_DTd_9re8g",
        "outputId": "54a44be0-bd6f-4fcb-97e0-88740250bee3"
      },
      "outputs": [
        {
          "output_type": "display_data",
          "data": {
            "text/html": [
              "'/content'"
            ],
            "text/markdown": "'/content'",
            "text/latex": "'/content'",
            "text/plain": [
              "[1] \"/content\""
            ]
          },
          "metadata": {}
        }
      ],
      "source": [
        "getwd()"
      ]
    },
    {
      "cell_type": "markdown",
      "source": [],
      "metadata": {
        "id": "cQ4RlzEPx07o"
      }
    },
    {
      "cell_type": "code",
      "source": [
        "install.packages('dplyr')\n",
        "# biblioteca de manipulação de dados"
      ],
      "metadata": {
        "colab": {
          "base_uri": "https://localhost:8080/"
        },
        "id": "xb6Dm9Rax0HD",
        "outputId": "c369b2cc-e54a-44fb-ee3e-147d07ca6745"
      },
      "execution_count": 6,
      "outputs": [
        {
          "output_type": "stream",
          "name": "stderr",
          "text": [
            "Installing package into ‘/usr/local/lib/R/site-library’\n",
            "(as ‘lib’ is unspecified)\n",
            "\n"
          ]
        }
      ]
    },
    {
      "cell_type": "markdown",
      "source": [],
      "metadata": {
        "id": "ctj0Nqgzc6nO"
      }
    },
    {
      "cell_type": "code",
      "source": [
        "library(dplyr)\n",
        "library(tidyverse)\n",
        "library(readxl)"
      ],
      "metadata": {
        "id": "XQyp0J3cc400"
      },
      "execution_count": 8,
      "outputs": []
    },
    {
      "cell_type": "markdown",
      "source": [],
      "metadata": {
        "id": "Nk6iYNzadFSB"
      }
    },
    {
      "cell_type": "code",
      "source": [
        "estudantes <- read_excel('/content/t_estud.xlsx')"
      ],
      "metadata": {
        "id": "lr6D096UdGFd"
      },
      "execution_count": 10,
      "outputs": []
    },
    {
      "cell_type": "code",
      "source": [
        "names(estudantes)"
      ],
      "metadata": {
        "colab": {
          "base_uri": "https://localhost:8080/",
          "height": 34
        },
        "id": "BdmdkTmzfYKG",
        "outputId": "1ac4be25-0a01-4319-ef44-e7e02902eb53"
      },
      "execution_count": 11,
      "outputs": [
        {
          "output_type": "display_data",
          "data": {
            "text/html": [
              "<style>\n",
              ".list-inline {list-style: none; margin:0; padding: 0}\n",
              ".list-inline>li {display: inline-block}\n",
              ".list-inline>li:not(:last-child)::after {content: \"\\00b7\"; padding: 0 .5ex}\n",
              "</style>\n",
              "<ol class=list-inline><li>'Aluno'</li><li>'Sexo'</li><li>'Idade'</li><li>'Altura'</li><li>'Peso'</li><li>'Ingles'</li><li>'Bairro'</li><li>'Nº Irmãos'</li></ol>\n"
            ],
            "text/markdown": "1. 'Aluno'\n2. 'Sexo'\n3. 'Idade'\n4. 'Altura'\n5. 'Peso'\n6. 'Ingles'\n7. 'Bairro'\n8. 'Nº Irmãos'\n\n\n",
            "text/latex": "\\begin{enumerate*}\n\\item 'Aluno'\n\\item 'Sexo'\n\\item 'Idade'\n\\item 'Altura'\n\\item 'Peso'\n\\item 'Ingles'\n\\item 'Bairro'\n\\item 'Nº Irmãos'\n\\end{enumerate*}\n",
            "text/plain": [
              "[1] \"Aluno\"     \"Sexo\"      \"Idade\"     \"Altura\"    \"Peso\"      \"Ingles\"   \n",
              "[7] \"Bairro\"    \"Nº Irmãos\""
            ]
          },
          "metadata": {}
        }
      ]
    }
  ]
}